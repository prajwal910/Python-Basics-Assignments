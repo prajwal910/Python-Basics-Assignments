{
 "cells": [
  {
   "cell_type": "markdown",
   "id": "398f48da",
   "metadata": {},
   "source": [
    "1. Why are functions advantageous to have in your programs?"
   ]
  },
  {
   "cell_type": "markdown",
   "id": "76b322ea",
   "metadata": {},
   "source": [
    "Ans: \n",
    "* Using functions, we may avoid writing the same logic or code in software many times.\n",
    "* In a single application, we can call Python functions everywhere and more than once.\n",
    "* We can easily trace a Python programme that has been divided up into numerous functions.\n",
    "* The best feature of Python functions is their reusability.\n",
    "However, a Python programme always requires more effort when calling functions."
   ]
  },
  {
   "cell_type": "markdown",
   "id": "a7715616",
   "metadata": {},
   "source": [
    "2. When does the code in a function run: when it&#39;s specified or when it&#39;s called?"
   ]
  },
  {
   "cell_type": "markdown",
   "id": "1d65f3c5",
   "metadata": {},
   "source": [
    "Ans: Code in the function runs when the function is called"
   ]
  },
  {
   "cell_type": "markdown",
   "id": "e5416205",
   "metadata": {},
   "source": [
    "3. What statement creates a function?"
   ]
  },
  {
   "cell_type": "markdown",
   "id": "57de92dd",
   "metadata": {},
   "source": [
    "Ans: We can create a user-defined function in Python, using the def keyword."
   ]
  },
  {
   "cell_type": "markdown",
   "id": "f08bfe0b",
   "metadata": {},
   "source": [
    "4. What is the difference between a function and a function call?"
   ]
  },
  {
   "cell_type": "markdown",
   "id": "5491de2f",
   "metadata": {},
   "source": [
    "Ans: A function is a block of code that performs a specific task and may or may not return a value. A function is defined using the def keyword, followed by the function name and a set of parentheses that may include parameters. \n",
    "\n",
    "A function call is an expression that invokes a function. To call a function in Python, you simply write the function name followed by a set of parentheses that may include arguments. \n",
    "\n",
    "In summary, a function is a block of code that performs a specific task, while a function call is an expression that invokes a function and executes the code in the function."
   ]
  },
  {
   "cell_type": "markdown",
   "id": "5934b2a4",
   "metadata": {},
   "source": [
    "5. How many global scopes are there in a Python program? How many local scopes?"
   ]
  },
  {
   "cell_type": "markdown",
   "id": "b57a5699",
   "metadata": {},
   "source": [
    "Ans: There's only one global Python scope per program execution. This scope remains in existence until the program terminates , and a local scope is created whenever a function is called."
   ]
  },
  {
   "cell_type": "markdown",
   "id": "3f073ea0",
   "metadata": {},
   "source": [
    "6. What happens to variables in a local scope when the function call returns?"
   ]
  },
  {
   "cell_type": "markdown",
   "id": "37041479",
   "metadata": {},
   "source": [
    "Ans: When a function returns, the local scope is destroyed, and all the variables in it are forgotten."
   ]
  },
  {
   "cell_type": "markdown",
   "id": "d3af4b59",
   "metadata": {},
   "source": [
    "7. What is the concept of a return value? Is it possible to have a return value in an expression?"
   ]
  },
  {
   "cell_type": "markdown",
   "id": "0225a64f",
   "metadata": {},
   "source": [
    " A return value is the value that a function call evaluates to. Like any value, a return value can be used as part of an expression."
   ]
  },
  {
   "cell_type": "markdown",
   "id": "82918cba",
   "metadata": {},
   "source": [
    "8. If a function does not have a return statement, what is the return value of a call to that function?"
   ]
  },
  {
   "cell_type": "markdown",
   "id": "da9bdb94",
   "metadata": {},
   "source": [
    "Ans: any function without an explicit return statement, or one with a return statement without a return value, will return None "
   ]
  },
  {
   "cell_type": "markdown",
   "id": "0926defe",
   "metadata": {},
   "source": [
    "9. How do you make a function variable refer to the global variable?"
   ]
  },
  {
   "cell_type": "markdown",
   "id": "09403af5",
   "metadata": {},
   "source": [
    "To make function variable as a global variable you can use the global keyword to declare which variables are global."
   ]
  },
  {
   "cell_type": "markdown",
   "id": "8fed5e16",
   "metadata": {},
   "source": [
    "10. What is the data type of None?"
   ]
  },
  {
   "cell_type": "markdown",
   "id": "14126eb1",
   "metadata": {},
   "source": [
    "Ans: The data type of None is NoneType."
   ]
  },
  {
   "cell_type": "markdown",
   "id": "32fdf9cc",
   "metadata": {},
   "source": [
    "11. What does the sentence import areallyourpetsnamederic do?"
   ]
  },
  {
   "cell_type": "markdown",
   "id": "fdd4417f",
   "metadata": {},
   "source": [
    "Ans: That import statement imports a module named areallyourpetsnamederic. However this module is not present in Python."
   ]
  },
  {
   "cell_type": "markdown",
   "id": "ff4da867",
   "metadata": {},
   "source": [
    "12. If you had a bacon() feature in a spam module, what would you call it after importing spam?"
   ]
  },
  {
   "cell_type": "markdown",
   "id": "f71d2261",
   "metadata": {},
   "source": [
    "Ans: This function can be called with spam.bacon()."
   ]
  },
  {
   "cell_type": "markdown",
   "id": "45fdcce2",
   "metadata": {},
   "source": [
    "13. What can you do to save a programme from crashing if it encounters an error?"
   ]
  },
  {
   "cell_type": "markdown",
   "id": "594a443f",
   "metadata": {},
   "source": [
    "Ans: To use try and except clause to save a program from crashing"
   ]
  },
  {
   "cell_type": "markdown",
   "id": "dde51ff6",
   "metadata": {},
   "source": [
    "14. What is the purpose of the try clause? What is the purpose of the except clause?"
   ]
  },
  {
   "cell_type": "markdown",
   "id": "a6289daa",
   "metadata": {},
   "source": [
    "Ans: The try block lets you test a block of code for errors.\n",
    "\n",
    "The except block lets you handle the error."
   ]
  },
  {
   "cell_type": "markdown",
   "id": "18b97c0d",
   "metadata": {},
   "source": []
  },
  {
   "cell_type": "markdown",
   "id": "1392ad95",
   "metadata": {},
   "source": []
  },
  {
   "cell_type": "markdown",
   "id": "9af5ec49",
   "metadata": {},
   "source": []
  },
  {
   "cell_type": "markdown",
   "id": "2fe2d78f",
   "metadata": {},
   "source": []
  },
  {
   "cell_type": "markdown",
   "id": "5c0eb751",
   "metadata": {},
   "source": []
  }
 ],
 "metadata": {
  "kernelspec": {
   "display_name": "Python 3 (ipykernel)",
   "language": "python",
   "name": "python3"
  },
  "language_info": {
   "codemirror_mode": {
    "name": "ipython",
    "version": 3
   },
   "file_extension": ".py",
   "mimetype": "text/x-python",
   "name": "python",
   "nbconvert_exporter": "python",
   "pygments_lexer": "ipython3",
   "version": "3.11.5"
  }
 },
 "nbformat": 4,
 "nbformat_minor": 5
}
