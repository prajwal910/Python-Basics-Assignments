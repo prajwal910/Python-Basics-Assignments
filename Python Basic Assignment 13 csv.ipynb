{
 "cells": [
  {
   "cell_type": "markdown",
   "id": "a2601a60",
   "metadata": {},
   "source": [
    "1. What advantages do Excel spreadsheets have over CSV spreadsheets?"
   ]
  },
  {
   "cell_type": "markdown",
   "id": "4cf92deb",
   "metadata": {},
   "source": [
    "Ans:\n",
    "* In Excel, spreadsheets can have values of datatypes other than strings; \n",
    "* cells can have different fonts, sizes, or color settings; \n",
    "* cells can have varying widths and heights; \n",
    "* adjecent cells can be merged; \n",
    "* and we can embed images and charts."
   ]
  },
  {
   "cell_type": "markdown",
   "id": "dc79568a",
   "metadata": {},
   "source": [
    "2.What do you pass to csv.reader() and csv.writer() to create reader and writer objects?"
   ]
  },
  {
   "cell_type": "markdown",
   "id": "809e30f0",
   "metadata": {},
   "source": [
    "Ans: We pass a file object, obtained from call to open()."
   ]
  },
  {
   "cell_type": "code",
   "execution_count": 5,
   "id": "541ba430",
   "metadata": {},
   "outputs": [],
   "source": [
    "import csv\n",
    "csvFile = open('example.csv', 'w', newline='')\n",
    "csvWriter = csv.writer(csvFile, delimiter='\\t', lineterminator='\\n\\n')"
   ]
  },
  {
   "cell_type": "code",
   "execution_count": 6,
   "id": "7348bdc2",
   "metadata": {},
   "outputs": [],
   "source": [
    "import csv\n",
    "exampleFile = open('example.csv')\n",
    "exampleReader = csv.reader(exampleFile)"
   ]
  },
  {
   "cell_type": "markdown",
   "id": "1dd40fcc",
   "metadata": {},
   "source": [
    "3. What modes do File objects for reader and writer objects need to be opened in?"
   ]
  },
  {
   "cell_type": "markdown",
   "id": "73df8cad",
   "metadata": {},
   "source": [
    "Ans: File objects need to be opened in read-binary ('rb') for reader objects and write-binary ('wb') fro writer objects."
   ]
  },
  {
   "cell_type": "markdown",
   "id": "abfa75e8",
   "metadata": {},
   "source": [
    "4. What method takes a list argument and writes it to a CSV file?"
   ]
  },
  {
   "cell_type": "code",
   "execution_count": 7,
   "id": "dab6be61",
   "metadata": {},
   "outputs": [
    {
     "data": {
      "text/plain": [
       "14"
      ]
     },
     "execution_count": 7,
     "metadata": {},
     "output_type": "execute_result"
    }
   ],
   "source": [
    " #The writerow() method\n",
    "File_abc = open('abc.csv','w')\n",
    "File_Writer = csv.writer(File_abc)\n",
    "csv.writer(File_abc).writerow(['cat','fish','dog'])"
   ]
  },
  {
   "cell_type": "markdown",
   "id": "3224b85e",
   "metadata": {},
   "source": [
    "5. What do the keyword arguments delimiter and line terminator do?"
   ]
  },
  {
   "cell_type": "markdown",
   "id": "f6ce1721",
   "metadata": {},
   "source": [
    "Ans:\n",
    "* The delimiter argument changes the string used to separate cells in a row.\n",
    "* The line terminator argument changes the string used to separate rows."
   ]
  },
  {
   "cell_type": "markdown",
   "id": "6dd2e6e8",
   "metadata": {},
   "source": [
    "6. What function takes a string of JSON data and returns a Python data structure?"
   ]
  },
  {
   "cell_type": "markdown",
   "id": "a820e04b",
   "metadata": {},
   "source": [
    "Ans: json.loads()"
   ]
  },
  {
   "cell_type": "markdown",
   "id": "2ec90c0a",
   "metadata": {},
   "source": [
    "7. What function takes a Python data structure and returns a string of JSON data?"
   ]
  },
  {
   "cell_type": "markdown",
   "id": "638d05c3",
   "metadata": {},
   "source": [
    "Ans: json.dumps()"
   ]
  },
  {
   "cell_type": "code",
   "execution_count": null,
   "id": "07cefded",
   "metadata": {},
   "outputs": [],
   "source": []
  }
 ],
 "metadata": {
  "kernelspec": {
   "display_name": "Python 3 (ipykernel)",
   "language": "python",
   "name": "python3"
  },
  "language_info": {
   "codemirror_mode": {
    "name": "ipython",
    "version": 3
   },
   "file_extension": ".py",
   "mimetype": "text/x-python",
   "name": "python",
   "nbconvert_exporter": "python",
   "pygments_lexer": "ipython3",
   "version": "3.11.5"
  }
 },
 "nbformat": 4,
 "nbformat_minor": 5
}
