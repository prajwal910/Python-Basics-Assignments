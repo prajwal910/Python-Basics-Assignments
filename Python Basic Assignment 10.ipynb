{
 "cells": [
  {
   "cell_type": "markdown",
   "id": "52e62a46",
   "metadata": {},
   "source": [
    "1. How do you distinguish between shutil.copy() and shutil.copytree()?"
   ]
  },
  {
   "cell_type": "markdown",
   "id": "795bb8fa",
   "metadata": {},
   "source": [
    "\"shutil.copy()\" will copy a single file.\"shutil.copytree()\" will copy an entire folder and every folder and file contained in it."
   ]
  },
  {
   "cell_type": "markdown",
   "id": "f6d2179f",
   "metadata": {},
   "source": [
    "2. What function is used to rename files??"
   ]
  },
  {
   "cell_type": "markdown",
   "id": "050dc7d2",
   "metadata": {},
   "source": [
    "shutil.move will rename files."
   ]
  },
  {
   "cell_type": "markdown",
   "id": "e8a34bd1",
   "metadata": {},
   "source": [
    "3. What is the difference between the delete functions in the send2trash and shutil modules?"
   ]
  },
  {
   "cell_type": "markdown",
   "id": "47ca1605",
   "metadata": {},
   "source": [
    "shutil.rmtree() function irreversibly deletes files and folders. send2trash will send folders and files to computer's trash or recycle bin instead of permanently deleting them"
   ]
  },
  {
   "cell_type": "markdown",
   "id": "5aaeba2e",
   "metadata": {},
   "source": [
    "4.ZipFile objects have a close() method just like File objects’ close() method. What ZipFile method is\n",
    "equivalent to File objects’ open() method?"
   ]
  },
  {
   "cell_type": "markdown",
   "id": "b80de94a",
   "metadata": {},
   "source": [
    "ZipFile method is equivalant to File objects' open() method. For example,"
   ]
  },
  {
   "cell_type": "code",
   "execution_count": null,
   "id": "8df0c5e7",
   "metadata": {},
   "outputs": [],
   "source": [
    "import zipfile\n",
    "newZip = zipfile.ZipFile('new.zip', 'w')"
   ]
  },
  {
   "cell_type": "markdown",
   "id": "9d7751ea",
   "metadata": {},
   "source": [
    "5. Create a programme that searches a folder tree for files with a certain file extension (such as .pdf\n",
    "or .jpg). Copy these files from whatever location they are in to a new folder."
   ]
  },
  {
   "cell_type": "code",
   "execution_count": null,
   "id": "05fb1377",
   "metadata": {},
   "outputs": [],
   "source": [
    "import os, shutil\n",
    "\n",
    "def selectiveCopy(folder, extensions, destFolder):\n",
    "    folder = os.path.abspath(folder)\n",
    "    destFolder = os.path.abspath(destFolder)\n",
    "    print('Looking in', folder, 'for files with extensions of', ', '.join(extensions))\n",
    "    for foldername, subfolders, filenames in os.walk(folder):\n",
    "        for filename in filenames:\n",
    "            name, extension = os.path.splitext(filename)\n",
    "            if extension in extensions:\n",
    "                fileAbsPath = foldername + os.path.sep + filename\n",
    "                print('Coping', fileAbsPath, 'to', destFolder)\n",
    "                shutil.copy(fileAbsPath, destFolder)\n",
    "\n",
    "extensions = ['.php', '.py']\n",
    "folder = 'randomFolder'\n",
    "destFolder = 'selectiveFolder'\n",
    "selectiveCopy(folder, extensions, destFolder)"
   ]
  }
 ],
 "metadata": {
  "kernelspec": {
   "display_name": "Python 3 (ipykernel)",
   "language": "python",
   "name": "python3"
  },
  "language_info": {
   "codemirror_mode": {
    "name": "ipython",
    "version": 3
   },
   "file_extension": ".py",
   "mimetype": "text/x-python",
   "name": "python",
   "nbconvert_exporter": "python",
   "pygments_lexer": "ipython3",
   "version": "3.11.5"
  }
 },
 "nbformat": 4,
 "nbformat_minor": 5
}
