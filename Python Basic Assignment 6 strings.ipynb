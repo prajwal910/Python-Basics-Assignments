{
 "cells": [
  {
   "cell_type": "markdown",
   "id": "090b3bc7",
   "metadata": {},
   "source": [
    "1. What are escape characters, and how do you use them?"
   ]
  },
  {
   "cell_type": "markdown",
   "id": "7d77465a",
   "metadata": {},
   "source": [
    "Ans: Escape characters or sequences are illegal characters for Python and never get printed as part of the output. When backslash is used in Python programming, it allows the program to escape the next characters. <br>\n",
    "In Python strings, the backslash \"\" is a special character, also called the \"escape\" character. It is used in representing certain whitespace characters: \"\\t\" is a tab, \"\\n\" is a newline, and \"\\r\" is a carriage return"
   ]
  },
  {
   "cell_type": "markdown",
   "id": "d7c3ae1a",
   "metadata": {},
   "source": [
    "2. What do the escape characters n and t stand for?"
   ]
  },
  {
   "cell_type": "markdown",
   "id": "e43095f6",
   "metadata": {},
   "source": [
    "Ans: \"\\t\" is a tab, \"\\n\" is a newline"
   ]
  },
  {
   "cell_type": "markdown",
   "id": "3585a217",
   "metadata": {},
   "source": [
    "3. What is the way to include backslash characters in a string?"
   ]
  },
  {
   "cell_type": "markdown",
   "id": "8f061fa7",
   "metadata": {},
   "source": [
    "Ans : The \\ escape character will represent a backslash character."
   ]
  },
  {
   "cell_type": "markdown",
   "id": "53878bbd",
   "metadata": {},
   "source": [
    "4. The string &quot;Howl&#39;s Moving Castle&quot; is a correct value. Why isn&#39;t the single quote character in the\n",
    "word Howl&#39;s not escaped a problem?"
   ]
  },
  {
   "cell_type": "markdown",
   "id": "c284e107",
   "metadata": {},
   "source": [
    "Ans: The usage of the double quotes in the beginning and end has escaped a problem"
   ]
  },
  {
   "cell_type": "markdown",
   "id": "d1f5407d",
   "metadata": {},
   "source": [
    "5. How do you write a string of newlines if you don&#39;t want to use the n character?"
   ]
  },
  {
   "cell_type": "markdown",
   "id": "14768bd6",
   "metadata": {},
   "source": [
    "Ans: You can print strings without adding a new line with end = \"character\", which \"character\" is the character that will be used to separate the lines."
   ]
  },
  {
   "cell_type": "markdown",
   "id": "2688b124",
   "metadata": {},
   "source": [
    "6. What are the values of the given expressions?\n"
   ]
  },
  {
   "cell_type": "code",
   "execution_count": 13,
   "id": "f20f6d25",
   "metadata": {},
   "outputs": [
    {
     "data": {
      "text/plain": [
       "'e'"
      ]
     },
     "execution_count": 13,
     "metadata": {},
     "output_type": "execute_result"
    }
   ],
   "source": [
    "'Hello, world!'[1]"
   ]
  },
  {
   "cell_type": "code",
   "execution_count": 14,
   "id": "6668efb9",
   "metadata": {},
   "outputs": [
    {
     "data": {
      "text/plain": [
       "'Hello'"
      ]
     },
     "execution_count": 14,
     "metadata": {},
     "output_type": "execute_result"
    }
   ],
   "source": [
    "'Hello, world!'[0:5]"
   ]
  },
  {
   "cell_type": "code",
   "execution_count": 15,
   "id": "7127f5ae",
   "metadata": {},
   "outputs": [
    {
     "data": {
      "text/plain": [
       "'Hello'"
      ]
     },
     "execution_count": 15,
     "metadata": {},
     "output_type": "execute_result"
    }
   ],
   "source": [
    "'Hello, world!'[:5]"
   ]
  },
  {
   "cell_type": "code",
   "execution_count": 16,
   "id": "a1465186",
   "metadata": {},
   "outputs": [
    {
     "data": {
      "text/plain": [
       "'lo, world!'"
      ]
     },
     "execution_count": 16,
     "metadata": {},
     "output_type": "execute_result"
    }
   ],
   "source": [
    "'Hello, world!'[3:]"
   ]
  },
  {
   "cell_type": "markdown",
   "id": "25e348eb",
   "metadata": {},
   "source": [
    "7. What are the values of the following expressions?"
   ]
  },
  {
   "cell_type": "code",
   "execution_count": 17,
   "id": "3d2332e3",
   "metadata": {},
   "outputs": [
    {
     "data": {
      "text/plain": [
       "'HELLO'"
      ]
     },
     "execution_count": 17,
     "metadata": {},
     "output_type": "execute_result"
    }
   ],
   "source": [
    "'Hello'.upper()"
   ]
  },
  {
   "cell_type": "code",
   "execution_count": 18,
   "id": "b4709578",
   "metadata": {},
   "outputs": [
    {
     "data": {
      "text/plain": [
       "True"
      ]
     },
     "execution_count": 18,
     "metadata": {},
     "output_type": "execute_result"
    }
   ],
   "source": [
    "'Hello'.upper().isupper()"
   ]
  },
  {
   "cell_type": "code",
   "execution_count": 19,
   "id": "6dbcf679",
   "metadata": {},
   "outputs": [
    {
     "data": {
      "text/plain": [
       "'hello'"
      ]
     },
     "execution_count": 19,
     "metadata": {},
     "output_type": "execute_result"
    }
   ],
   "source": [
    "'Hello'.upper().lower()\n"
   ]
  },
  {
   "cell_type": "markdown",
   "id": "767843b8",
   "metadata": {},
   "source": [
    "8. What are the values of the following expressions?"
   ]
  },
  {
   "cell_type": "code",
   "execution_count": 20,
   "id": "34e2453a",
   "metadata": {},
   "outputs": [
    {
     "data": {
      "text/plain": [
       "['Remember,', 'remember,', 'the', 'fifth', 'of', 'July.']"
      ]
     },
     "execution_count": 20,
     "metadata": {},
     "output_type": "execute_result"
    }
   ],
   "source": [
    "'Remember, remember, the fifth of July.'.split() "
   ]
  },
  {
   "cell_type": "code",
   "execution_count": 21,
   "id": "83a1e659",
   "metadata": {},
   "outputs": [
    {
     "data": {
      "text/plain": [
       "'There-can-only-one.'"
      ]
     },
     "execution_count": 21,
     "metadata": {},
     "output_type": "execute_result"
    }
   ],
   "source": [
    "'-'.join('There can only one.'.split())"
   ]
  },
  {
   "cell_type": "markdown",
   "id": "37fd7ecd",
   "metadata": {},
   "source": [
    "9. What are the methods for right-justifying, left-justifying, and centering a string?"
   ]
  },
  {
   "cell_type": "markdown",
   "id": "3a18065a",
   "metadata": {},
   "source": [
    "Ans: The rjust(), ljust(), and center() string methods, respectively are the methods for right-justifying, left-justifying, and centering a string"
   ]
  },
  {
   "cell_type": "code",
   "execution_count": 23,
   "id": "9edb8e74",
   "metadata": {},
   "outputs": [
    {
     "data": {
      "text/plain": [
       "'Prajwal---'"
      ]
     },
     "execution_count": 23,
     "metadata": {},
     "output_type": "execute_result"
    }
   ],
   "source": [
    "# left justified\n",
    "str =\"Prajwal\"\n",
    "str.ljust(10,\"-\")\n",
    "     "
   ]
  },
  {
   "cell_type": "code",
   "execution_count": 24,
   "id": "04fee08b",
   "metadata": {},
   "outputs": [
    {
     "data": {
      "text/plain": [
       "'***Prajwal'"
      ]
     },
     "execution_count": 24,
     "metadata": {},
     "output_type": "execute_result"
    }
   ],
   "source": [
    "# Right justified\n",
    "str =\"Prajwal\"\n",
    "str.rjust(10,\"*\")"
   ]
  },
  {
   "cell_type": "code",
   "execution_count": 26,
   "id": "bd142327",
   "metadata": {},
   "outputs": [
    {
     "data": {
      "text/plain": [
       "'******Prajwal*******'"
      ]
     },
     "execution_count": 26,
     "metadata": {},
     "output_type": "execute_result"
    }
   ],
   "source": [
    "# Center justified\n",
    "str =\"Prajwal\"\n",
    "str.center(20,\"*\")"
   ]
  },
  {
   "cell_type": "markdown",
   "id": "f01ef131",
   "metadata": {},
   "source": [
    "10. What is the best way to remove whitespace characters from the start or end?"
   ]
  },
  {
   "cell_type": "markdown",
   "id": "a826526d",
   "metadata": {},
   "source": [
    "Ans: The lstrip() and rstrip() methods remove whitespace from the left and right ends of a string, respectively."
   ]
  },
  {
   "cell_type": "code",
   "execution_count": 28,
   "id": "b146ef81",
   "metadata": {},
   "outputs": [
    {
     "data": {
      "text/plain": [
       "'Prajwal'"
      ]
     },
     "execution_count": 28,
     "metadata": {},
     "output_type": "execute_result"
    }
   ],
   "source": [
    "str =\"     Prajwal\"\n",
    "str.lstrip()"
   ]
  },
  {
   "cell_type": "code",
   "execution_count": 29,
   "id": "b97e2075",
   "metadata": {},
   "outputs": [
    {
     "data": {
      "text/plain": [
       "'Prajwal'"
      ]
     },
     "execution_count": 29,
     "metadata": {},
     "output_type": "execute_result"
    }
   ],
   "source": [
    "str =\"Prajwal    \"\n",
    "str.rstrip()"
   ]
  },
  {
   "cell_type": "code",
   "execution_count": 30,
   "id": "32f283e6",
   "metadata": {},
   "outputs": [
    {
     "data": {
      "text/plain": [
       "'Prajwal'"
      ]
     },
     "execution_count": 30,
     "metadata": {},
     "output_type": "execute_result"
    }
   ],
   "source": [
    "str =\"   Prajwal    \"\n",
    "str.strip()"
   ]
  },
  {
   "cell_type": "code",
   "execution_count": null,
   "id": "3581a9ca",
   "metadata": {},
   "outputs": [],
   "source": []
  }
 ],
 "metadata": {
  "kernelspec": {
   "display_name": "Python 3 (ipykernel)",
   "language": "python",
   "name": "python3"
  },
  "language_info": {
   "codemirror_mode": {
    "name": "ipython",
    "version": 3
   },
   "file_extension": ".py",
   "mimetype": "text/x-python",
   "name": "python",
   "nbconvert_exporter": "python",
   "pygments_lexer": "ipython3",
   "version": "3.11.5"
  }
 },
 "nbformat": 4,
 "nbformat_minor": 5
}
